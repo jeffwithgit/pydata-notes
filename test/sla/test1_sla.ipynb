{
 "cells": [
  {
   "cell_type": "code",
   "execution_count": null,
   "metadata": {
    "collapsed": true
   },
   "outputs": [],
   "source": [
    "from __future__ import division\n",
    "from numpy.random import randn\n",
    "import numpy as np\n",
    "import os\n",
    "import matplotlib.pyplot as plt\n",
    "np.random.seed(12345)\n",
    "plt.rc('figure', figsize=(10, 6))\n",
    "from pandas import Series, DataFrame\n",
    "import pandas\n",
    "import pandas as pd\n",
    "np.set_printoptions(precision=4, threshold=500)\n",
    "pd.options.display.max_rows = 100\n",
    "\n",
    "%matplotlib inline"
   ]
  },
  {
   "cell_type": "code",
   "execution_count": 2,
   "metadata": {},
   "outputs": [],
   "source": [
    "main_activitystream_cmdb = pd.read_csv('main_activitystream_cmdb_201810131521.csv')\n",
    "main_activitystream = pd.read_csv('main_activitystream_201810131522.csv')"
   ]
  },
  {
   "cell_type": "code",
   "execution_count": 3,
   "metadata": {
    "collapsed": true
   },
   "outputs": [],
   "source": [
    "ndata = pd.merge(main_activitystream_cmdb, main_activitystream,\n",
    "                 left_on='activitystream_id',\n",
    "                 right_on='id')"
   ]
  },
  {
   "cell_type": "code",
   "execution_count": 5,
   "metadata": {
    "collapsed": false
   },
   "outputs": [],
   "source": [
    "# -*- coding: utf-8 -*-\n",
    "'''\n",
    "a. 聚合main_activitystream_cmdb和main_activitystream，过滤时间，根据时间排序\n",
    "实现了以下sql的功能\n",
    "select * from main_activitystream_cmdb t1 inner join main_activitystream t2\n",
    "\ton t2.id = t1.activitystream_id\n",
    "\twhere t1.cmdb_id = 1\n",
    "\tand t2.\"timestamp\" > '2018-10-01 00:00:00'\n",
    "\tand t2.\"timestamp\" < '2018-10-31 23:59:59'\n",
    "\torder by t2.\"timestamp\" desc;\n",
    "b. changes字段过滤出包含asset_status的数据\n",
    "'''\n",
    "df_b = ndata[['cmdb_id', 'timestamp', 'changes']][\n",
    "    (ndata['cmdb_id'] == 1) \n",
    "    & (ndata['timestamp'] > '2018-10-01 00:00:00')\n",
    "    & (ndata['timestamp'] < '2018-10-31 23:59:59')\n",
    "    & (ndata['changes'].str.contains('asset_status'))\n",
    "].sort_values(by='timestamp', ascending=False)"
   ]
  },
  {
   "cell_type": "code",
   "execution_count": 6,
   "metadata": {
    "collapsed": true
   },
   "outputs": [
    {
     "data": {
      "text/plain": [
       "818    2018-10-12 11:59:00\n817    2018-10-12 11:56:21\n816    2018-10-12 11:54:57\n815    2018-10-12 11:53:27\n812    2018-10-12 10:11:01\n811    2018-10-12 10:10:33\n806    2018-10-11 17:14:59\n803    2018-10-11 16:51:40\n802    2018-10-11 14:52:45\n801    2018-10-11 14:51:40\n800    2018-10-11 14:50:24\n799    2018-10-11 14:47:57\n798    2018-10-11 14:46:37\n797    2018-10-11 14:38:40\n796    2018-10-11 14:37:17\n795    2018-10-11 14:36:49\n794    2018-10-11 14:32:07\n793    2018-10-11 13:59:15\n792    2018-10-11 13:58:47\n791    2018-10-11 13:58:30\n790    2018-10-11 13:47:12\n789    2018-10-11 13:46:46\n788    2018-10-11 13:46:27\n787    2018-10-11 13:45:56\n786    2018-10-11 13:45:19\n785    2018-10-11 11:36:30\n784    2018-10-11 11:34:09\n783    2018-10-11 11:28:55\n782    2018-10-11 11:27:00\n781    2018-10-11 11:25:07\n780    2018-10-11 11:20:31\n779    2018-10-11 11:17:39\n778    2018-10-11 11:16:18\n777    2018-10-11 11:14:46\n776    2018-10-11 11:14:14\n775    2018-10-11 11:10:22\n774    2018-10-11 11:09:26\n773    2018-10-11 11:00:18\n772    2018-10-11 10:51:34\nName: timestamp, dtype: object"
      ]
     },
     "execution_count": 6,
     "metadata": {},
     "output_type": "execute_result"
    }
   ],
   "source": [
    "df_b"
   ]
  },
  {
   "cell_type": "code",
   "execution_count": 7,
   "metadata": {
    "collapsed": false
   },
   "outputs": [
    {
     "data": {
      "text/plain": [
       "817    2018-10-12 11:56:21\n816    2018-10-12 11:54:57\n815    2018-10-12 11:53:27\n812    2018-10-12 10:11:01\n811    2018-10-12 10:10:33\n806    2018-10-11 17:14:59\n803    2018-10-11 16:51:40\n802    2018-10-11 14:52:45\n801    2018-10-11 14:51:40\n800    2018-10-11 14:50:24\n799    2018-10-11 14:47:57\n798    2018-10-11 14:46:37\n797    2018-10-11 14:38:40\n796    2018-10-11 14:37:17\n795    2018-10-11 14:36:49\n794    2018-10-11 14:32:07\n793    2018-10-11 13:59:15\n792    2018-10-11 13:58:47\n791    2018-10-11 13:58:30\n790    2018-10-11 13:47:12\n789    2018-10-11 13:46:46\n788    2018-10-11 13:46:27\n787    2018-10-11 13:45:56\n786    2018-10-11 13:45:19\n785    2018-10-11 11:36:30\n784    2018-10-11 11:34:09\n783    2018-10-11 11:28:55\n782    2018-10-11 11:27:00\n781    2018-10-11 11:25:07\n780    2018-10-11 11:20:31\n779    2018-10-11 11:17:39\n778    2018-10-11 11:16:18\n777    2018-10-11 11:14:46\n776    2018-10-11 11:14:14\n775    2018-10-11 11:10:22\n774    2018-10-11 11:09:26\n773    2018-10-11 11:00:18\n772    2018-10-11 10:51:34\nName: timestamp, dtype: object"
      ]
     },
     "execution_count": 7,
     "metadata": {},
     "output_type": "execute_result"
    }
   ],
   "source": [
    "df_b['timestamp'][:3]"
   ]
  },
  {
   "cell_type": "code",
   "execution_count": 13,
   "metadata": {},
   "outputs": [
    {
     "data": {
      "text/plain": [
       "<function __main__.delta_seconds>"
      ]
     },
     "execution_count": 23,
     "metadata": {},
     "output_type": "execute_result"
    }
   ],
   "source": [
    "df_b['timestamp'].shift(1)[:3]"
   ]
  },
  {
   "cell_type": "code",
   "execution_count": 39,
   "metadata": {
    "collapsed": false
   },
   "outputs": [
    {
     "data": {
      "text/plain": [
       "772    0.0\n773    0.0\n774    0.0\n775    0.0\n776    0.0\n777    0.0\n778    0.0\n779    0.0\n780    0.0\n781    0.0\n782    0.0\n783    0.0\n784    0.0\n785    0.0\n786    0.0\n787    0.0\n788    0.0\n789    0.0\n790    0.0\n791    0.0\n792    0.0\n793    0.0\n794    0.0\n795    0.0\n796    0.0\n797    0.0\n798    0.0\n799    0.0\n800    0.0\n801    0.0\n802    0.0\n803    0.0\n806    0.0\n811    0.0\n812    0.0\n815    0.0\n816    0.0\n817    0.0\n818    NaN\nName: timestamp, dtype: float64"
      ]
     },
     "execution_count": 39,
     "metadata": {},
     "output_type": "execute_result"
    }
   ],
   "source": [
    "(pd.to_datetime(df_b['timestamp'].shift(1)) - pd.to_datetime(df_b['timestamp']))[:3]"
   ]
  },
  {
   "cell_type": "code",
   "execution_count": null,
   "metadata": {
    "collapsed": true
   },
   "outputs": [
    {
     "data": {
      "text/plain": [
       "772    0.0\n773    0.0\n774    0.0\n775    0.0\n776    0.0\n777    0.0\n778    0.0\n779    0.0\n780    0.0\n781    0.0\n782    0.0\n783    0.0\n784    0.0\n785    0.0\n786    0.0\n787    0.0\n788    0.0\n789    0.0\n790    0.0\n791    0.0\n792    0.0\n793    0.0\n794    0.0\n795    0.0\n796    0.0\n797    0.0\n798    0.0\n799    0.0\n800    0.0\n801    0.0\n802    0.0\n803    0.0\n806    0.0\n811    0.0\n812    0.0\n815    0.0\n816    0.0\n817    0.0\n818    NaN\nName: timestamp, dtype: float64"
      ]
     },
     "execution_count": 39,
     "metadata": {},
     "output_type": "execute_result"
    }
   ],
   "source": [
    "(pd.to_datetime(df_b['timestamp'].shift(1)) - pd.to_datetime(df_b['timestamp']))[:3].shift(-1)"
   ]
  },
  {
   "cell_type": "code",
   "execution_count": null,
   "metadata": {},
   "outputs": [],
   "source": [
    "df_b['time_interval'] = (pd.to_datetime(df_b['timestamp'].shift(1)) - pd.to_datetime(df_b['timestamp'])).shift(-1)\n",
    "df_b\n",
    "\n",
    "\n",
    "\n",
    "\n"
   ]
  }
 ],
 "metadata": {
  "kernelspec": {
   "display_name": "Python 2",
   "language": "python",
   "name": "python2"
  },
  "language_info": {
   "codemirror_mode": {
    "name": "ipython",
    "version": 2
   },
   "file_extension": ".py",
   "mimetype": "text/x-python",
   "name": "python",
   "nbconvert_exporter": "python",
   "pygments_lexer": "ipython2",
   "version": "2.7.6"
  }
 },
 "nbformat": 4,
 "nbformat_minor": 0
}
